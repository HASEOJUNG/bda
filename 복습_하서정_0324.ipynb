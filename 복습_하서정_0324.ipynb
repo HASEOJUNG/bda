{
  "cells": [
    {
      "cell_type": "code",
      "execution_count": null,
      "id": "18cf3b74",
      "metadata": {
        "id": "18cf3b74"
      },
      "outputs": [],
      "source": [
        "import pandas as pd\n",
        "import numpy as np\n",
        "from sklearn.datasets import fetch_california_housing\n",
        "from sklearn.model_selection import train_test_split # 데이터를 학습용과 테스트용으로 나눔\n",
        "import matplotlib.pyplot as plt\n",
        "import pandas as pd\n",
        "import seaborn as sns\n",
        "from sklearn.linear_model import LinearRegression\n",
        "from sklearn.model_selection import train_test_split\n",
        "import statsmodels.api as sm # 통계 분석을 위한 Python 라이브러리. 주로 회귀 분석, 시계열 분석 등에 사용\n",
        "from sklearn.metrics import mean_squared_error # MSE\n",
        "\n",
        "# 캘리포니아 주택 데이터셋 로드\n",
        "california = fetch_california_housing()\n",
        "X, y = pd.DataFrame(california.data, columns=california.feature_names), california.target\n"
      ]
    },
    {
      "cell_type": "code",
      "execution_count": null,
      "id": "ec6ab065",
      "metadata": {
        "id": "ec6ab065",
        "outputId": "5ec92928-6809-46e6-b4cb-9031bb0545a5"
      },
      "outputs": [
        {
          "data": {
            "text/plain": [
              "<Axes: ylabel='MedInc'>"
            ]
          },
          "execution_count": 4,
          "metadata": {},
          "output_type": "execute_result"
        },
        {
          "data": {
            "image/png": "[encoded data removed]",
            "text/plain": [
              "<Figure size 1000x800 with 1 Axes>"
            ]
          },
          "metadata": {},
          "output_type": "display_data"
        }
      ],
      "source": [
        "# 이상치 데이터 확인\n",
        "\n",
        "plt.figure(figsize=(10,8))\n",
        "sns.boxplot(y='MedInc',data=X)"
      ]
    },
    {
      "cell_type": "code",
      "execution_count": null,
      "id": "c8d83e16",
      "metadata": {
        "id": "c8d83e16"
      },
      "outputs": [],
      "source": [
        "# 소득과 집값을 가지고 간단한 회귀분석 진행해 보자!\n",
        "# 회귀분석을 통해 -> 성능에 대한 확인을 할 예정\n",
        "# 이상치를 1번 날리고 -> 2번 날려서 -> 선형적으로 변화하면서 성능이 좋아지는 것\n",
        "\n",
        "## 이상치를 날리지 않고, 이 부분을 살려서 성능을 개선해 보자!\n",
        "X_df =X['MedInc']\n",
        "\n",
        "X_train,X_test,y_train,y_test = train_test_split(X_df, y, train_size=0.7, test_size=0.3, random_state=111)\n",
        "# random_state=111: 재현 가능한 랜덤 시드 값으로, 동일한 시드를 사용하면 매번 동일한 분할이 생성\n",
        "# ->코드를 실행할 때마다 다른 결과를 얻지 않고 항상 일관된 결과를 얻을 수 있"
      ]
    },
    {
      "cell_type": "code",
      "execution_count": null,
      "id": "47e3c88b",
      "metadata": {
        "id": "47e3c88b",
        "outputId": "99bf994f-c38d-455f-e8ea-94b001d29d50"
      },
      "outputs": [
        {
          "data": {
            "text/html": [
              "<style>#sk-container-id-1 {color: black;}#sk-container-id-1 pre{padding: 0;}#sk-container-id-1 div.sk-toggleable {background-color: white;}#sk-container-id-1 label.sk-toggleable__label {cursor: pointer;display: block;width: 100%;margin-bottom: 0;padding: 0.3em;box-sizing: border-box;text-align: center;}#sk-container-id-1 label.sk-toggleable__label-arrow:before {content: \"▸\";float: left;margin-right: 0.25em;color: #696969;}#sk-container-id-1 label.sk-toggleable__label-arrow:hover:before {color: black;}#sk-container-id-1 div.sk-estimator:hover label.sk-toggleable__label-arrow:before {color: black;}#sk-container-id-1 div.sk-toggleable__content {max-height: 0;max-width: 0;overflow: hidden;text-align: left;background-color: #f0f8ff;}#sk-container-id-1 div.sk-toggleable__content pre {margin: 0.2em;color: black;border-radius: 0.25em;background-color: #f0f8ff;}#sk-container-id-1 input.sk-toggleable__control:checked~div.sk-toggleable__content {max-height: 200px;max-width: 100%;overflow: auto;}#sk-container-id-1 input.sk-toggleable__control:checked~label.sk-toggleable__label-arrow:before {content: \"▾\";}#sk-container-id-1 div.sk-estimator input.sk-toggleable__control:checked~label.sk-toggleable__label {background-color: #d4ebff;}#sk-container-id-1 div.sk-label input.sk-toggleable__control:checked~label.sk-toggleable__label {background-color: #d4ebff;}#sk-container-id-1 input.sk-hidden--visually {border: 0;clip: rect(1px 1px 1px 1px);clip: rect(1px, 1px, 1px, 1px);height: 1px;margin: -1px;overflow: hidden;padding: 0;position: absolute;width: 1px;}#sk-container-id-1 div.sk-estimator {font-family: monospace;background-color: #f0f8ff;border: 1px dotted black;border-radius: 0.25em;box-sizing: border-box;margin-bottom: 0.5em;}#sk-container-id-1 div.sk-estimator:hover {background-color: #d4ebff;}#sk-container-id-1 div.sk-parallel-item::after {content: \"\";width: 100%;border-bottom: 1px solid gray;flex-grow: 1;}#sk-container-id-1 div.sk-label:hover label.sk-toggleable__label {background-color: #d4ebff;}#sk-container-id-1 div.sk-serial::before {content: \"\";position: absolute;border-left: 1px solid gray;box-sizing: border-box;top: 0;bottom: 0;left: 50%;z-index: 0;}#sk-container-id-1 div.sk-serial {display: flex;flex-direction: column;align-items: center;background-color: white;padding-right: 0.2em;padding-left: 0.2em;position: relative;}#sk-container-id-1 div.sk-item {position: relative;z-index: 1;}#sk-container-id-1 div.sk-parallel {display: flex;align-items: stretch;justify-content: center;background-color: white;position: relative;}#sk-container-id-1 div.sk-item::before, #sk-container-id-1 div.sk-parallel-item::before {content: \"\";position: absolute;border-left: 1px solid gray;box-sizing: border-box;top: 0;bottom: 0;left: 50%;z-index: -1;}#sk-container-id-1 div.sk-parallel-item {display: flex;flex-direction: column;z-index: 1;position: relative;background-color: white;}#sk-container-id-1 div.sk-parallel-item:first-child::after {align-self: flex-end;width: 50%;}#sk-container-id-1 div.sk-parallel-item:last-child::after {align-self: flex-start;width: 50%;}#sk-container-id-1 div.sk-parallel-item:only-child::after {width: 0;}#sk-container-id-1 div.sk-dashed-wrapped {border: 1px dashed gray;margin: 0 0.4em 0.5em 0.4em;box-sizing: border-box;padding-bottom: 0.4em;background-color: white;}#sk-container-id-1 div.sk-label label {font-family: monospace;font-weight: bold;display: inline-block;line-height: 1.2em;}#sk-container-id-1 div.sk-label-container {text-align: center;}#sk-container-id-1 div.sk-container {/* jupyter's `normalize.less` sets `[hidden] { display: none; }` but bootstrap.min.css set `[hidden] { display: none !important; }` so we also need the `!important` here to be able to override the default hidden behavior on the sphinx rendered scikit-learn.org. See: https://github.com/scikit-learn/scikit-learn/issues/21755 */display: inline-block !important;position: relative;}#sk-container-id-1 div.sk-text-repr-fallback {display: none;}</style><div id=\"sk-container-id-1\" class=\"sk-top-container\"><div class=\"sk-text-repr-fallback\"><pre>LinearRegression()</pre><b>In a Jupyter environment, please rerun this cell to show the HTML representation or trust the notebook. <br />On GitHub, the HTML representation is unable to render, please try loading this page with nbviewer.org.</b></div><div class=\"sk-container\" hidden><div class=\"sk-item\"><div class=\"sk-estimator sk-toggleable\"><input class=\"sk-toggleable__control sk-hidden--visually\" id=\"sk-estimator-id-1\" type=\"checkbox\" checked><label for=\"sk-estimator-id-1\" class=\"sk-toggleable__label sk-toggleable__label-arrow\">LinearRegression</label><div class=\"sk-toggleable__content\"><pre>LinearRegression()</pre></div></div></div></div></div>"
            ],
            "text/plain": [
              "LinearRegression()"
            ]
          },
          "execution_count": 7,
          "metadata": {},
          "output_type": "execute_result"
        }
      ],
      "source": [
        "# 단순 선형회귀 학습\n",
        "\n",
        "lr= LinearRegression(fit_intercept=True)\n",
        "lr.fit(np.array(X_train).reshape(-1,1), y_train)"
      ]
    },
    {
      "cell_type": "code",
      "execution_count": null,
      "id": "426d5569",
      "metadata": {
        "id": "426d5569"
      },
      "outputs": [],
      "source": [
        "# 예측값을 베이스로 확인해 보자!\n",
        "y_pred1= lr.predict(np.array(X_test).reshape(-1,1))\n",
        "mse1= mean_squared_error(y_test, y_pred1)"
      ]
    },
    {
      "cell_type": "code",
      "execution_count": null,
      "id": "0483f360",
      "metadata": {
        "id": "0483f360",
        "outputId": "fc537dc7-aff9-444c-ae1d-68541311448a"
      },
      "outputs": [
        {
          "name": "stdout",
          "output_type": "stream",
          "text": [
            "R-square0.47520\n",
            "MSE:0.7144365385330999\n"
          ]
        }
      ],
      "source": [
        "print('R-square{:.5f}'.format(lr.score(np.array(X_train).reshape(-1,1), y_train)))\n",
        "print(f'MSE:{mse1}')"
      ]
    },
    {
      "cell_type": "code",
      "execution_count": null,
      "id": "eab88506",
      "metadata": {
        "id": "eab88506",
        "outputId": "0542b38b-8eb0-4389-8370-114b35a72995"
      },
      "outputs": [
        {
          "data": {
            "text/plain": [
              "(array([ 365., 1882., 3570., 3866., 3484., 2614., 1832., 1158.,  683.,\n",
              "         377.,  294.,  134.,   72.,  106.,   69.,   24.,   24.,   23.,\n",
              "           6.,   57.]),\n",
              " array([ 0.4999 ,  1.22491,  1.94992,  2.67493,  3.39994,  4.12495,\n",
              "         4.84996,  5.57497,  6.29998,  7.02499,  7.75   ,  8.47501,\n",
              "         9.20002,  9.92503, 10.65004, 11.37505, 12.10006, 12.82507,\n",
              "        13.55008, 14.27509, 15.0001 ]),\n",
              " <BarContainer object of 20 artists>)"
            ]
          },
          "execution_count": 12,
          "metadata": {},
          "output_type": "execute_result"
        },
        {
          "data": {
            "image/png": "[encoded data removed]",
            "text/plain": [
              "<Figure size 640x480 with 1 Axes>"
            ]
          },
          "metadata": {},
          "output_type": "display_data"
        }
      ],
      "source": [
        "## 데이터 분포 확인\n",
        "plt.hist(X['MedInc'],bins=20, color='blue')\n",
        "\n",
        "# 'MedInc' 열의 값들을 구간(bin)으로 나눔\n",
        "# bins=20: 히스토그램의 구간(bin) 수를 설정. 여기서는 20개의 구간으로 나눔"
      ]
    },
    {
      "cell_type": "code",
      "execution_count": null,
      "id": "4f1345ed",
      "metadata": {
        "id": "4f1345ed",
        "outputId": "63da3b9d-f849-4b65-e244-d9a57afa5862"
      },
      "outputs": [
        {
          "data": {
            "text/plain": [
              "<Axes: xlabel='MedInc'>"
            ]
          },
          "execution_count": 13,
          "metadata": {},
          "output_type": "execute_result"
        },
        {
          "data": {
            "image/png": "[encoded data removed]",
            "text/plain": [
              "<Figure size 640x480 with 1 Axes>"
            ]
          },
          "metadata": {},
          "output_type": "display_data"
        }
      ],
      "source": [
        "sns.boxplot(x=X['MedInc'])"
      ]
    },
    {
      "cell_type": "code",
      "execution_count": null,
      "id": "3b281bde",
      "metadata": {
        "id": "3b281bde",
        "outputId": "0c13baa2-87c0-4129-f471-9b9053a56c24"
      },
      "outputs": [
        {
          "name": "stdout",
          "output_type": "stream",
          "text": [
            "                            OLS Regression Results                            \n",
            "==============================================================================\n",
            "Dep. Variable:                      y   R-squared:                       0.473\n",
            "Model:                            OLS   Adj. R-squared:                  0.473\n",
            "Method:                 Least Squares   F-statistic:                 1.856e+04\n",
            "Date:                Sun, 24 Mar 2024   Prob (F-statistic):               0.00\n",
            "Time:                        22:08:44   Log-Likelihood:                -25623.\n",
            "No. Observations:               20640   AIC:                         5.125e+04\n",
            "Df Residuals:                   20638   BIC:                         5.127e+04\n",
            "Df Model:                           1                                         \n",
            "Covariance Type:            nonrobust                                         \n",
            "==============================================================================\n",
            "                 coef    std err          t      P>|t|      [0.025      0.975]\n",
            "------------------------------------------------------------------------------\n",
            "const          0.4509      0.013     34.082      0.000       0.425       0.477\n",
            "MedInc         0.4179      0.003    136.223      0.000       0.412       0.424\n",
            "==============================================================================\n",
            "Omnibus:                     4245.795   Durbin-Watson:                   0.655\n",
            "Prob(Omnibus):                  0.000   Jarque-Bera (JB):             9273.446\n",
            "Skew:                           1.191   Prob(JB):                         0.00\n",
            "Kurtosis:                       5.260   Cond. No.                         10.2\n",
            "==============================================================================\n",
            "\n",
            "Notes:\n",
            "[1] Standard Errors assume that the covariance matrix of the errors is correctly specified.\n"
          ]
        }
      ],
      "source": [
        "# OLS로 평가\n",
        "\n",
        "X_const = sm.add_constant(X['MedInc']) #상수항 추가->회귀 모델에 상수항을 포함하여 모델의 적합성을 높이고, 추정된 회귀 계수의 해석을 용이하게 만들기 위함\n",
        "# 최소제곱법(Ordinary Least Squares, OLS)을 사용하여 선형 회귀 모델을 적합\n",
        "ml1 = sm.OLS(y, X_const).fit()\n",
        "print(ml1.summary())"
      ]
    },
    {
      "cell_type": "markdown",
      "id": "ed62a60b",
      "metadata": {
        "id": "ed62a60b"
      },
      "source": [
        "### 이상치를 확인하고, 전처리하자!"
      ]
    },
    {
      "cell_type": "code",
      "execution_count": null,
      "id": "2961638a",
      "metadata": {
        "id": "2961638a",
        "outputId": "5ab68daa-b27e-4685-f07c-0fbf844c134e"
      },
      "outputs": [
        {
          "data": {
            "image/png": "[encoded data removed]",
            "text/plain": [
              "<Figure size 1200x600 with 1 Axes>"
            ]
          },
          "metadata": {},
          "output_type": "display_data"
        }
      ],
      "source": [
        "Q1=X['MedInc'].quantile(0.25)\n",
        "Q3=X['MedInc'].quantile(0.75)\n",
        "IQR = Q3- Q1\n",
        "\n",
        "# IQR 지수로만 만들자!\n",
        "# 이상치 여부 컬럼\n",
        "X['Outlier'] = ((X['MedInc'] < (Q1 - 1.5*IQR)) | (X['MedInc'] >(Q3+1.5*IQR)))\n",
        "\n",
        "# 이상치와 이상치가 아닌 값들의 집값 데이터를 확인\n",
        "non_outlier_prices = y[X['Outlier']==False]\n",
        "outlier_prices = y[X['Outlier']==True]\n",
        "\n",
        "## 시각화를 통해서 이상치들을 비교해 보자!\n",
        "# Kde=True를 설정하여 밀도 곡선을 함께 그림, 밀도 추정(kernel density estimation, KDE)\n",
        "# plt.legend(): 범례를 그래프에 표시\n",
        "plt.figure(figsize=(12,6))\n",
        "sns.histplot(non_outlier_prices, color='green', kde=True, label='Non- Outliers')\n",
        "sns.histplot(outlier_prices, color='red', kde=True, label='Outliers')\n",
        "plt.title('Non vs Outlier Housing Prices')\n",
        "plt.legend()\n",
        "plt.show()"
      ]
    },
    {
      "cell_type": "code",
      "execution_count": null,
      "id": "133bee96",
      "metadata": {
        "id": "133bee96",
        "outputId": "ead45ee2-63a1-4e94-fc2f-0f697f5e5e59"
      },
      "outputs": [
        {
          "data": {
            "text/plain": [
              "19959"
            ]
          },
          "execution_count": 21,
          "metadata": {},
          "output_type": "execute_result"
        }
      ],
      "source": [
        "len(non_outlier_prices)"
      ]
    },
    {
      "cell_type": "code",
      "execution_count": null,
      "id": "c8992388",
      "metadata": {
        "id": "c8992388",
        "outputId": "d63f913b-d96a-46ee-a5f1-6065787dbe7b"
      },
      "outputs": [
        {
          "data": {
            "text/plain": [
              "681"
            ]
          },
          "execution_count": 22,
          "metadata": {},
          "output_type": "execute_result"
        }
      ],
      "source": [
        "len(outlier_prices) #이상치 681개 정도"
      ]
    },
    {
      "cell_type": "markdown",
      "id": "d00add18",
      "metadata": {
        "id": "d00add18"
      },
      "source": [
        "- 통계적으로 두 개의 평균이 차이가 유의미한 것인가?"
      ]
    },
    {
      "cell_type": "code",
      "execution_count": null,
      "id": "0da25dfa",
      "metadata": {
        "id": "0da25dfa",
        "outputId": "dc5ebf32-9baa-4ecc-dad7-98880029406d"
      },
      "outputs": [
        {
          "name": "stdout",
          "output_type": "stream",
          "text": [
            "T-static : -96.60151073759215\n",
            "p-value : 0.0\n",
            "이상치 있는 집값, 없는 집값 평균차이 통계적으로 유의미하다.\n"
          ]
        }
      ],
      "source": [
        "from scipy import stats\n",
        "\n",
        "# 이상치와 이상치가 아닌 값들의 집값 데이터\n",
        "# 두 그룹 간의 평균에 대한 t-통계량과 p-값이 계산\n",
        "# p-값이 유의수준(alpha)보다 작을 경우 (일반적으로 0.05 또는 0.01), 두 그룹 간의 평균 차이가 통계적으로 유의미하다고 결론\n",
        "#  독립표본 t-검정을 수행, ttest_ind 함수는 두 독립적인 표본 그룹의 평균을 비교하는 데 사용\n",
        "# equal_var=False는 등분산성을 가정하지 않음=두 그룹의 분산이 다를 수 있다고 가정\n",
        "# 등분산성을 가정하는 경우, t-검정의 검정 통계량을 계산할 때 두 그룹의 분산을 통합하여 계산\n",
        "# 만약 두 그룹의 분산이 다르다면, 이 가정이 위배되어 t-검정의 결과가 왜곡될 수\n",
        "# 등분산성을 가정하지 않는 경우, Welch의 t-검정(Welch's t-test)이나 등분산성이 없는 독립표본 t-검정이 사용\n",
        "# equal_var=False를 설정하여 등분산성을 가정하지 않으면 두 그룹의 분산이 다르더라도 적절한 t-검정 방법을 사용하여 검정을 수행\n",
        "t_stat, p_value = stats.ttest_ind(non_outlier_prices, outlier_prices, equal_var=False )\n",
        "\n",
        "print(f'T-static : {t_stat}')\n",
        "print(f'p-value : {p_value}')\n",
        "\n",
        "# p-value\n",
        "if p_value <0.05:\n",
        "    print('이상치 있는 집값, 없는 집값 평균차이 통계적으로 유의미하다.')\n",
        "else:\n",
        "    print('이상치 있는 집값, 없는 집값 평균차이 통계적으로 유의미하지 않다.')"
      ]
    },
    {
      "cell_type": "markdown",
      "id": "043d00e1",
      "metadata": {
        "id": "043d00e1"
      },
      "source": [
        "### 회귀분석을 통해 이상치에 대한 파생변수를 만들었을 때 성능 비교"
      ]
    },
    {
      "cell_type": "code",
      "execution_count": null,
      "id": "8a3066bf",
      "metadata": {
        "id": "8a3066bf"
      },
      "outputs": [],
      "source": [
        "# 캘리포니아 주택 데이터셋 로드\n",
        "california = fetch_california_housing()\n",
        "X, y = pd.DataFrame(california.data, columns=california.feature_names), california.target"
      ]
    },
    {
      "cell_type": "code",
      "execution_count": null,
      "id": "36cdae1f",
      "metadata": {
        "id": "36cdae1f"
      },
      "outputs": [],
      "source": [
        "# 이상치 컬럼 다시 만들기\n",
        "\n",
        "Q1=X['MedInc'].quantile(0.25)\n",
        "Q3=X['MedInc'].quantile(0.75)\n",
        "IQR = Q3- Q1\n",
        "\n",
        "\n",
        "# IQR 지수로 0,1 이진분류로 이상치에 대해서 좀 더 가중치를 둬서 학습하면 실제 성능이 조금은 올라갈까?\n",
        "lower_bound = Q1 - 1.5*IQR\n",
        "upper_bound = Q3 + 1.5*IQR\n",
        "\n",
        "\n",
        "# 이상치 파생변수 만들기\n",
        "X['MedInc_outlier'] = ((X['MedInc']<lower_bound) | (X['MedInc'] > upper_bound)).astype(int)\n",
        "# .astype(int): 위 조건식의 결과를 정수형(int)으로 변환. 이렇게 하면 이상치를 나타내는 이진 변수가 됨\n",
        "# 이상치를 나타내는 값은 1이고, 이상치가 아닌 값은 0"
      ]
    },
    {
      "cell_type": "code",
      "execution_count": null,
      "id": "3358e17d",
      "metadata": {
        "id": "3358e17d",
        "outputId": "53ad5b41-74a1-4913-c0cc-1b51fad239b8"
      },
      "outputs": [
        {
          "data": {
            "text/html": [
              "<div>\n",
              "<style scoped>\n",
              "    .dataframe tbody tr th:only-of-type {\n",
              "        vertical-align: middle;\n",
              "    }\n",
              "\n",
              "    .dataframe tbody tr th {\n",
              "        vertical-align: top;\n",
              "    }\n",
              "\n",
              "    .dataframe thead th {\n",
              "        text-align: right;\n",
              "    }\n",
              "</style>\n",
              "<table border=\"1\" class=\"dataframe\">\n",
              "  <thead>\n",
              "    <tr style=\"text-align: right;\">\n",
              "      <th></th>\n",
              "      <th>MedInc</th>\n",
              "      <th>HouseAge</th>\n",
              "      <th>AveRooms</th>\n",
              "      <th>AveBedrms</th>\n",
              "      <th>Population</th>\n",
              "      <th>AveOccup</th>\n",
              "      <th>Latitude</th>\n",
              "      <th>Longitude</th>\n",
              "      <th>MedInc_outlier</th>\n",
              "    </tr>\n",
              "  </thead>\n",
              "  <tbody>\n",
              "    <tr>\n",
              "      <th>0</th>\n",
              "      <td>8.3252</td>\n",
              "      <td>41.0</td>\n",
              "      <td>6.984127</td>\n",
              "      <td>1.023810</td>\n",
              "      <td>322.0</td>\n",
              "      <td>2.555556</td>\n",
              "      <td>37.88</td>\n",
              "      <td>-122.23</td>\n",
              "      <td>1</td>\n",
              "    </tr>\n",
              "    <tr>\n",
              "      <th>1</th>\n",
              "      <td>8.3014</td>\n",
              "      <td>21.0</td>\n",
              "      <td>6.238137</td>\n",
              "      <td>0.971880</td>\n",
              "      <td>2401.0</td>\n",
              "      <td>2.109842</td>\n",
              "      <td>37.86</td>\n",
              "      <td>-122.22</td>\n",
              "      <td>1</td>\n",
              "    </tr>\n",
              "    <tr>\n",
              "      <th>2</th>\n",
              "      <td>7.2574</td>\n",
              "      <td>52.0</td>\n",
              "      <td>8.288136</td>\n",
              "      <td>1.073446</td>\n",
              "      <td>496.0</td>\n",
              "      <td>2.802260</td>\n",
              "      <td>37.85</td>\n",
              "      <td>-122.24</td>\n",
              "      <td>0</td>\n",
              "    </tr>\n",
              "    <tr>\n",
              "      <th>3</th>\n",
              "      <td>5.6431</td>\n",
              "      <td>52.0</td>\n",
              "      <td>5.817352</td>\n",
              "      <td>1.073059</td>\n",
              "      <td>558.0</td>\n",
              "      <td>2.547945</td>\n",
              "      <td>37.85</td>\n",
              "      <td>-122.25</td>\n",
              "      <td>0</td>\n",
              "    </tr>\n",
              "    <tr>\n",
              "      <th>4</th>\n",
              "      <td>3.8462</td>\n",
              "      <td>52.0</td>\n",
              "      <td>6.281853</td>\n",
              "      <td>1.081081</td>\n",
              "      <td>565.0</td>\n",
              "      <td>2.181467</td>\n",
              "      <td>37.85</td>\n",
              "      <td>-122.25</td>\n",
              "      <td>0</td>\n",
              "    </tr>\n",
              "    <tr>\n",
              "      <th>...</th>\n",
              "      <td>...</td>\n",
              "      <td>...</td>\n",
              "      <td>...</td>\n",
              "      <td>...</td>\n",
              "      <td>...</td>\n",
              "      <td>...</td>\n",
              "      <td>...</td>\n",
              "      <td>...</td>\n",
              "      <td>...</td>\n",
              "    </tr>\n",
              "    <tr>\n",
              "      <th>20635</th>\n",
              "      <td>1.5603</td>\n",
              "      <td>25.0</td>\n",
              "      <td>5.045455</td>\n",
              "      <td>1.133333</td>\n",
              "      <td>845.0</td>\n",
              "      <td>2.560606</td>\n",
              "      <td>39.48</td>\n",
              "      <td>-121.09</td>\n",
              "      <td>0</td>\n",
              "    </tr>\n",
              "    <tr>\n",
              "      <th>20636</th>\n",
              "      <td>2.5568</td>\n",
              "      <td>18.0</td>\n",
              "      <td>6.114035</td>\n",
              "      <td>1.315789</td>\n",
              "      <td>356.0</td>\n",
              "      <td>3.122807</td>\n",
              "      <td>39.49</td>\n",
              "      <td>-121.21</td>\n",
              "      <td>0</td>\n",
              "    </tr>\n",
              "    <tr>\n",
              "      <th>20637</th>\n",
              "      <td>1.7000</td>\n",
              "      <td>17.0</td>\n",
              "      <td>5.205543</td>\n",
              "      <td>1.120092</td>\n",
              "      <td>1007.0</td>\n",
              "      <td>2.325635</td>\n",
              "      <td>39.43</td>\n",
              "      <td>-121.22</td>\n",
              "      <td>0</td>\n",
              "    </tr>\n",
              "    <tr>\n",
              "      <th>20638</th>\n",
              "      <td>1.8672</td>\n",
              "      <td>18.0</td>\n",
              "      <td>5.329513</td>\n",
              "      <td>1.171920</td>\n",
              "      <td>741.0</td>\n",
              "      <td>2.123209</td>\n",
              "      <td>39.43</td>\n",
              "      <td>-121.32</td>\n",
              "      <td>0</td>\n",
              "    </tr>\n",
              "    <tr>\n",
              "      <th>20639</th>\n",
              "      <td>2.3886</td>\n",
              "      <td>16.0</td>\n",
              "      <td>5.254717</td>\n",
              "      <td>1.162264</td>\n",
              "      <td>1387.0</td>\n",
              "      <td>2.616981</td>\n",
              "      <td>39.37</td>\n",
              "      <td>-121.24</td>\n",
              "      <td>0</td>\n",
              "    </tr>\n",
              "  </tbody>\n",
              "</table>\n",
              "<p>20640 rows × 9 columns</p>\n",
              "</div>"
            ],
            "text/plain": [
              "       MedInc  HouseAge  AveRooms  AveBedrms  Population  AveOccup  Latitude  \\\n",
              "0      8.3252      41.0  6.984127   1.023810       322.0  2.555556     37.88   \n",
              "1      8.3014      21.0  6.238137   0.971880      2401.0  2.109842     37.86   \n",
              "2      7.2574      52.0  8.288136   1.073446       496.0  2.802260     37.85   \n",
              "3      5.6431      52.0  5.817352   1.073059       558.0  2.547945     37.85   \n",
              "4      3.8462      52.0  6.281853   1.081081       565.0  2.181467     37.85   \n",
              "...       ...       ...       ...        ...         ...       ...       ...   \n",
              "20635  1.5603      25.0  5.045455   1.133333       845.0  2.560606     39.48   \n",
              "20636  2.5568      18.0  6.114035   1.315789       356.0  3.122807     39.49   \n",
              "20637  1.7000      17.0  5.205543   1.120092      1007.0  2.325635     39.43   \n",
              "20638  1.8672      18.0  5.329513   1.171920       741.0  2.123209     39.43   \n",
              "20639  2.3886      16.0  5.254717   1.162264      1387.0  2.616981     39.37   \n",
              "\n",
              "       Longitude  MedInc_outlier  \n",
              "0        -122.23               1  \n",
              "1        -122.22               1  \n",
              "2        -122.24               0  \n",
              "3        -122.25               0  \n",
              "4        -122.25               0  \n",
              "...          ...             ...  \n",
              "20635    -121.09               0  \n",
              "20636    -121.21               0  \n",
              "20637    -121.22               0  \n",
              "20638    -121.32               0  \n",
              "20639    -121.24               0  \n",
              "\n",
              "[20640 rows x 9 columns]"
            ]
          },
          "execution_count": 30,
          "metadata": {},
          "output_type": "execute_result"
        }
      ],
      "source": [
        "X"
      ]
    },
    {
      "cell_type": "markdown",
      "id": "206050a7",
      "metadata": {
        "id": "206050a7"
      },
      "source": [
        "- 이상치 컬럼을 만들었으니 회귀분석을 통해 성능을 비교해 보자!\n",
        "- 두 개 컬럼이 들어간다. 다중회귀"
      ]
    },
    {
      "cell_type": "code",
      "execution_count": null,
      "id": "300a5654",
      "metadata": {
        "id": "300a5654"
      },
      "outputs": [],
      "source": [
        "## 이상치를 날리지 않고, 이 부분을 살려서 성능을 개선해 보자!\n",
        "X_df =X[['MedInc','MedInc_outlier']]\n",
        "\n",
        "X_train,X_test,y_train,y_test = train_test_split(X_df, y, train_size=0.7, test_size=0.3, random_state=111)"
      ]
    },
    {
      "cell_type": "code",
      "execution_count": null,
      "id": "ff2c708d",
      "metadata": {
        "id": "ff2c708d",
        "outputId": "bbaeb1bb-ff1b-4f52-8274-23442b4d8097"
      },
      "outputs": [
        {
          "data": {
            "text/html": [
              "<style>#sk-container-id-2 {color: black;}#sk-container-id-2 pre{padding: 0;}#sk-container-id-2 div.sk-toggleable {background-color: white;}#sk-container-id-2 label.sk-toggleable__label {cursor: pointer;display: block;width: 100%;margin-bottom: 0;padding: 0.3em;box-sizing: border-box;text-align: center;}#sk-container-id-2 label.sk-toggleable__label-arrow:before {content: \"▸\";float: left;margin-right: 0.25em;color: #696969;}#sk-container-id-2 label.sk-toggleable__label-arrow:hover:before {color: black;}#sk-container-id-2 div.sk-estimator:hover label.sk-toggleable__label-arrow:before {color: black;}#sk-container-id-2 div.sk-toggleable__content {max-height: 0;max-width: 0;overflow: hidden;text-align: left;background-color: #f0f8ff;}#sk-container-id-2 div.sk-toggleable__content pre {margin: 0.2em;color: black;border-radius: 0.25em;background-color: #f0f8ff;}#sk-container-id-2 input.sk-toggleable__control:checked~div.sk-toggleable__content {max-height: 200px;max-width: 100%;overflow: auto;}#sk-container-id-2 input.sk-toggleable__control:checked~label.sk-toggleable__label-arrow:before {content: \"▾\";}#sk-container-id-2 div.sk-estimator input.sk-toggleable__control:checked~label.sk-toggleable__label {background-color: #d4ebff;}#sk-container-id-2 div.sk-label input.sk-toggleable__control:checked~label.sk-toggleable__label {background-color: #d4ebff;}#sk-container-id-2 input.sk-hidden--visually {border: 0;clip: rect(1px 1px 1px 1px);clip: rect(1px, 1px, 1px, 1px);height: 1px;margin: -1px;overflow: hidden;padding: 0;position: absolute;width: 1px;}#sk-container-id-2 div.sk-estimator {font-family: monospace;background-color: #f0f8ff;border: 1px dotted black;border-radius: 0.25em;box-sizing: border-box;margin-bottom: 0.5em;}#sk-container-id-2 div.sk-estimator:hover {background-color: #d4ebff;}#sk-container-id-2 div.sk-parallel-item::after {content: \"\";width: 100%;border-bottom: 1px solid gray;flex-grow: 1;}#sk-container-id-2 div.sk-label:hover label.sk-toggleable__label {background-color: #d4ebff;}#sk-container-id-2 div.sk-serial::before {content: \"\";position: absolute;border-left: 1px solid gray;box-sizing: border-box;top: 0;bottom: 0;left: 50%;z-index: 0;}#sk-container-id-2 div.sk-serial {display: flex;flex-direction: column;align-items: center;background-color: white;padding-right: 0.2em;padding-left: 0.2em;position: relative;}#sk-container-id-2 div.sk-item {position: relative;z-index: 1;}#sk-container-id-2 div.sk-parallel {display: flex;align-items: stretch;justify-content: center;background-color: white;position: relative;}#sk-container-id-2 div.sk-item::before, #sk-container-id-2 div.sk-parallel-item::before {content: \"\";position: absolute;border-left: 1px solid gray;box-sizing: border-box;top: 0;bottom: 0;left: 50%;z-index: -1;}#sk-container-id-2 div.sk-parallel-item {display: flex;flex-direction: column;z-index: 1;position: relative;background-color: white;}#sk-container-id-2 div.sk-parallel-item:first-child::after {align-self: flex-end;width: 50%;}#sk-container-id-2 div.sk-parallel-item:last-child::after {align-self: flex-start;width: 50%;}#sk-container-id-2 div.sk-parallel-item:only-child::after {width: 0;}#sk-container-id-2 div.sk-dashed-wrapped {border: 1px dashed gray;margin: 0 0.4em 0.5em 0.4em;box-sizing: border-box;padding-bottom: 0.4em;background-color: white;}#sk-container-id-2 div.sk-label label {font-family: monospace;font-weight: bold;display: inline-block;line-height: 1.2em;}#sk-container-id-2 div.sk-label-container {text-align: center;}#sk-container-id-2 div.sk-container {/* jupyter's `normalize.less` sets `[hidden] { display: none; }` but bootstrap.min.css set `[hidden] { display: none !important; }` so we also need the `!important` here to be able to override the default hidden behavior on the sphinx rendered scikit-learn.org. See: https://github.com/scikit-learn/scikit-learn/issues/21755 */display: inline-block !important;position: relative;}#sk-container-id-2 div.sk-text-repr-fallback {display: none;}</style><div id=\"sk-container-id-2\" class=\"sk-top-container\"><div class=\"sk-text-repr-fallback\"><pre>LinearRegression()</pre><b>In a Jupyter environment, please rerun this cell to show the HTML representation or trust the notebook. <br />On GitHub, the HTML representation is unable to render, please try loading this page with nbviewer.org.</b></div><div class=\"sk-container\" hidden><div class=\"sk-item\"><div class=\"sk-estimator sk-toggleable\"><input class=\"sk-toggleable__control sk-hidden--visually\" id=\"sk-estimator-id-2\" type=\"checkbox\" checked><label for=\"sk-estimator-id-2\" class=\"sk-toggleable__label sk-toggleable__label-arrow\">LinearRegression</label><div class=\"sk-toggleable__content\"><pre>LinearRegression()</pre></div></div></div></div></div>"
            ],
            "text/plain": [
              "LinearRegression()"
            ]
          },
          "execution_count": 35,
          "metadata": {},
          "output_type": "execute_result"
        }
      ],
      "source": [
        "# 이상치 피처를 넣은 선형회귀 학습\n",
        "\n",
        "lr1= LinearRegression(fit_intercept=True)\n",
        "lr1.fit(X_train, y_train)"
      ]
    },
    {
      "cell_type": "code",
      "execution_count": null,
      "id": "8020dc66",
      "metadata": {
        "id": "8020dc66"
      },
      "outputs": [],
      "source": [
        "# 이상치 피처를 추가한 예측값을 베이스로 확인해 보자!\n",
        "y_pred2= lr1.predict(X_test)\n",
        "mse2= mean_squared_error(y_test, y_pred2)"
      ]
    },
    {
      "cell_type": "markdown",
      "id": "612449c7",
      "metadata": {
        "id": "612449c7"
      },
      "source": [
        "R-square0.47520\n",
        "MSE:0.7144365385330999"
      ]
    },
    {
      "cell_type": "code",
      "execution_count": null,
      "id": "422ecc2e",
      "metadata": {
        "id": "422ecc2e",
        "outputId": "4a8494f0-babd-4e17-c912-166907cfec47"
      },
      "outputs": [
        {
          "name": "stdout",
          "output_type": "stream",
          "text": [
            "R-square0.47542\n",
            "MSE:0.7142016307342004\n"
          ]
        }
      ],
      "source": [
        "print('R-square{:.5f}'.format(lr1.score(X_train, y_train)))\n",
        "print(f'MSE:{mse2}')"
      ]
    },
    {
      "cell_type": "code",
      "execution_count": null,
      "id": "6336e82b",
      "metadata": {
        "id": "6336e82b",
        "outputId": "5a5e5c33-09e0-4ef3-ad20-db8bc952e552"
      },
      "outputs": [
        {
          "name": "stdout",
          "output_type": "stream",
          "text": [
            "                            OLS Regression Results                            \n",
            "==============================================================================\n",
            "Dep. Variable:                      y   R-squared:                       0.474\n",
            "Model:                            OLS   Adj. R-squared:                  0.474\n",
            "Method:                 Least Squares   F-statistic:                     9285.\n",
            "Date:                Sun, 24 Mar 2024   Prob (F-statistic):               0.00\n",
            "Time:                        22:24:43   Log-Likelihood:                -25619.\n",
            "No. Observations:               20640   AIC:                         5.124e+04\n",
            "Df Residuals:                   20637   BIC:                         5.127e+04\n",
            "Df Model:                           2                                         \n",
            "Covariance Type:            nonrobust                                         \n",
            "==================================================================================\n",
            "                     coef    std err          t      P>|t|      [0.025      0.975]\n",
            "----------------------------------------------------------------------------------\n",
            "const              0.4290      0.015     27.994      0.000       0.399       0.459\n",
            "MedInc             0.4246      0.004    109.885      0.000       0.417       0.432\n",
            "MedInc_outlier    -0.1162      0.041     -2.829      0.005      -0.197      -0.036\n",
            "==============================================================================\n",
            "Omnibus:                     4221.762   Durbin-Watson:                   0.655\n",
            "Prob(Omnibus):                  0.000   Jarque-Bera (JB):             9176.591\n",
            "Skew:                           1.187   Prob(JB):                         0.00\n",
            "Kurtosis:                       5.244   Cond. No.                         31.7\n",
            "==============================================================================\n",
            "\n",
            "Notes:\n",
            "[1] Standard Errors assume that the covariance matrix of the errors is correctly specified.\n"
          ]
        }
      ],
      "source": [
        "# OLS로 평가\n",
        "\n",
        "X_const1 = sm.add_constant(X[['MedInc','MedInc_outlier']]) #상수항 추가\n",
        "\n",
        "ml2 = sm.OLS(y, X_const1).fit()\n",
        "print(ml2.summary())"
      ]
    },
    {
      "cell_type": "markdown",
      "id": "0501d189",
      "metadata": {
        "id": "0501d189"
      },
      "source": [
        "## 리뷰데이터 전처리 하는 법!\n",
        "- 다양한 문자열 데이터를 전처리 하는 법"
      ]
    },
    {
      "cell_type": "code",
      "execution_count": null,
      "id": "7df0ed1e",
      "metadata": {
        "id": "7df0ed1e"
      },
      "outputs": [],
      "source": [
        "df = pd.read_csv('movie_rv.csv')"
      ]
    },
    {
      "cell_type": "code",
      "execution_count": null,
      "id": "5750c2ca",
      "metadata": {
        "id": "5750c2ca"
      },
      "outputs": [],
      "source": [
        "df_sp=df[:50000]"
      ]
    },
    {
      "cell_type": "code",
      "execution_count": null,
      "id": "409c9ef1",
      "metadata": {
        "id": "409c9ef1"
      },
      "outputs": [],
      "source": [
        "df_sp=df_sp.dropna()"
      ]
    },
    {
      "cell_type": "code",
      "execution_count": null,
      "id": "56052fa6",
      "metadata": {
        "id": "56052fa6"
      },
      "outputs": [],
      "source": [
        "# Sklearn CounterVectorizer는 텍스트 데이터를 단어 또는 n-그램의 등장 빈도 행렬로 변환하는 데 사용\n",
        "# 이를 통해 텍스트 데이터를 기계 학습 모델에 입력으로 제공할 수, 문서 분류, 감정 분석, 토픽 모델링 등의 작업에 활용\n",
        "from sklearn.feature_extraction.text import CountVectorizer"
      ]
    },
    {
      "cell_type": "code",
      "execution_count": null,
      "id": "32fe2497",
      "metadata": {
        "id": "32fe2497"
      },
      "outputs": [],
      "source": [
        "# 전체 텍스트에서 가장 빈번하게 등장하는 상위 1000개의 단어만 사용하여 CountVectorizer를 구성\n",
        "# 이 매개변수를 사용하여 텍스트에서 가장 빈번하게 등장하는 단어만 사용하거나, 특정 개수의 단어만 선택할 수 있음\n",
        "# 이는 피처의 차원을 줄이고 메모리 사용량을 줄이는 데 도움\n",
        "# re_cv를 사용하여 텍스트 데이터를 벡터 형태로 변환할 수 있음\n",
        "re_cv = CountVectorizer(max_features=1000)"
      ]
    },
    {
      "cell_type": "code",
      "execution_count": null,
      "id": "7f72f571",
      "metadata": {
        "id": "7f72f571"
      },
      "outputs": [],
      "source": [
        "df_sp_docu=df_sp['document']"
      ]
    },
    {
      "cell_type": "code",
      "execution_count": null,
      "id": "3b128701",
      "metadata": {
        "id": "3b128701"
      },
      "outputs": [],
      "source": [
        "# 리뷰안에 데이터 넣어서 어떤 식으로 전처리 되는지\n",
        "re_cnv=re_cv.fit_transform(df_sp_docu)\n",
        "# fit_transform 메서드는 CountVectorizer를 적합(fit)하고 변환(transform)하는 작업을 동시에 수행\n",
        "# (fit)텍스트 데이터를 분석하고 단어 사전을 구축한 후, (transfrom)텍스트를 단어 빈도 행렬로 변환"
      ]
    },
    {
      "cell_type": "code",
      "execution_count": null,
      "id": "f66752e9",
      "metadata": {
        "id": "f66752e9",
        "outputId": "338a36a6-52e1-4453-f8bb-7dd5c3a4f98f"
      },
      "outputs": [
        {
          "data": {
            "text/plain": [
              "array(['0점', '0점은', '10', '10자', '10점', '1점', '1점도', '2점', '3류', '3점',\n",
              "       '4점', '80년대', '90년대', '9점', 'b급', 'good', 'oo', 'ooo', 'ooo기',\n",
              "       'ost', 'the', 'tv', 'ㄷㄷ', 'ㅅㅂ', 'ㅇㅇ', 'ㅉㅉ', 'ㅋㅋ', 'ㅋㅋㅋ', 'ㅋㅋㅋㅋ',\n",
              "       'ㅋㅋㅋㅋㅋ', 'ㅎㅎ', 'ㅎㅎㅎ', 'ㅜㅜ', 'ㅠㅠ', 'ㅠㅠㅠ', 'ㅡㅡ', '가끔', '가는', '가볍게',\n",
              "       '가서', '가슴', '가슴이', '가장', '가지고', '가진', '각본', '간만에', '갈수록', '감독',\n",
              "       '감독님', '감독은', '감독의', '감독이', '감동', '감동과', '감동도', '감동을', '감동이',\n",
              "       '감동적이고', '감동적인', '감사합니다', '갑자기', '강추', '같네요', '같다', '같습니다', '같아서',\n",
              "       '같아요', '같은', '같은데', '같음', '같이', '개봉', '개뿔', '개연성', '개인적으로', '거의',\n",
              "       '건지', '걸작', '겁나', '것도', '것은', '것을', '것이', '것이다', '게다가', '결국', '결말',\n",
              "       '결말도', '결말은', '결말이', '계속', '공감이', '공포', '공포영화', '과연', '괜찮은', '괜히',\n",
              "       '굉장히', '구성'], dtype=object)"
            ]
          },
          "execution_count": 66,
          "metadata": {},
          "output_type": "execute_result"
        }
      ],
      "source": [
        "# 내가 선정한 피처들은 무엇이 있는지?\n",
        "re_cv.get_feature_names_out()[:100]"
      ]
    },
    {
      "cell_type": "markdown",
      "id": "455a2db4",
      "metadata": {
        "id": "455a2db4"
      },
      "source": [
        "- 형태소로 나눠서 간단하게 전처리 해보자!"
      ]
    },
    {
      "cell_type": "code",
      "execution_count": null,
      "id": "fb90eff2",
      "metadata": {
        "id": "fb90eff2"
      },
      "outputs": [],
      "source": [
        "#konlpy 패키지 사용하시면 됩니다.\n",
        "from konlpy.tag import Okt\n",
        "# Okt는 트위터에서 개발한 한국어 형태소 분석기로, 주로 간단한 텍스트 분석 작업에 사용"
      ]
    },
    {
      "cell_type": "code",
      "execution_count": null,
      "id": "ff79f1ba",
      "metadata": {
        "id": "ff79f1ba"
      },
      "outputs": [],
      "source": [
        "# 객체 생성\n",
        "tw_tag= Okt()"
      ]
    },
    {
      "cell_type": "code",
      "execution_count": null,
      "id": "373b2d2b",
      "metadata": {
        "id": "373b2d2b",
        "outputId": "d0711707-24c3-4100-d88f-5dd00b386d9a"
      },
      "outputs": [
        {
          "name": "stdout",
          "output_type": "stream",
          "text": [
            "['무재', '밓었', '다그', '래서', '추천']\n"
          ]
        }
      ],
      "source": [
        "#형태소로 추출 예정\n",
        "# df_sp 데이터프레임의 'document' 열에서 3번째 행에 해당하는 텍스트를 형태소 분석하여 명사만 추출\n",
        "print(tw_tag.nouns(df_sp['document'][2]))"
      ]
    },
    {
      "cell_type": "code",
      "execution_count": null,
      "id": "6d2d9a82",
      "metadata": {
        "id": "6d2d9a82"
      },
      "outputs": [],
      "source": [
        "# 하나의 토크나이저 함수 만들어서 전체 전처리 해보자!\n",
        "# 입력으로 받은 한국어 문장을 형태소로 분석하고, 명사와 동사를 추출하여 리스트로 반환하는 함수\n",
        "def my_token(doc):\n",
        "    return [token for token, pos in tw_tag.pos(doc) if pos in ['Noun','Verb']]"
      ]
    },
    {
      "cell_type": "code",
      "execution_count": null,
      "id": "11a7858e",
      "metadata": {
        "id": "11a7858e"
      },
      "outputs": [],
      "source": [
        "# 사이킷런의 countvectorizer 하이퍼파라미터에 그대로 넣으면 된다.\n",
        "\n",
        "re_cv_mt = CountVectorizer(max_features=1000, tokenizer= my_token)"
      ]
    },
    {
      "cell_type": "code",
      "execution_count": null,
      "id": "731907db",
      "metadata": {
        "id": "731907db",
        "outputId": "e9525180-bc4e-40b9-88d8-521b3405d9b7"
      },
      "outputs": [
        {
          "name": "stderr",
          "output_type": "stream",
          "text": [
            "/opt/anaconda3/envs/bda/lib/python3.8/site-packages/sklearn/feature_extraction/text.py:525: UserWarning: The parameter 'token_pattern' will not be used since 'tokenizer' is not None'\n",
            "  warnings.warn(\n"
          ]
        }
      ],
      "source": [
        "# 리뷰안에 데이터 넣어서 어떤 식으로 전처리 되는지\n",
        "re_cnv_mt=re_cv_mt.fit_transform(df_sp_docu)"
      ]
    },
    {
      "cell_type": "code",
      "execution_count": null,
      "id": "ea582658",
      "metadata": {
        "id": "ea582658",
        "outputId": "3158d71c-15bc-484f-9aeb-7a3dad950558"
      },
      "outputs": [
        {
          "data": {
            "text/plain": [
              "array(['가', '가끔', '가는', '가면', '가서', '가슴', '가요', '가장', '가족', '가지', '가진',\n",
              "       '가치', '각본', '간', '간다', '간만', '갈수록', '감', '감독', '감동', '감명', '감사합니다',\n",
              "       '감상', '감성', '감정', '갑자기', '강', '강추', '개', '개그', '개봉', '개연', '개인',\n",
              "       '개판', '거', '거기', '거리', '거의', '거지', '건', '건가', '건지', '걸', '걸까',\n",
              "       '걸작', '겁나', '것', '게', '게이', '게임', '결론', '결말', '결혼', '경찰', '계속',\n",
              "       '고', '고민', '고생', '곳', '공감', '공포', '공포영화', '과', '과거', '과연', '과정',\n",
              "       '관', '관객', '관계', '관람', '관심', '광고', '괴물', '교훈', '구', '구성', '군대',\n",
              "       '굳이', '굿', '귀신', '그', '그것', '그게', '그냥', '그녀', '그닥', '그대로', '그때',\n",
              "       '그래픽', '그리', '그린', '그림', '극장', '극장판', '글', '급', '기', '기대', '기도',\n",
              "       '기본'], dtype=object)"
            ]
          },
          "execution_count": 75,
          "metadata": {},
          "output_type": "execute_result"
        }
      ],
      "source": [
        "# 내가 선정한 피처들은 무엇이 있는지?\n",
        "re_cv_mt.get_feature_names_out()[:100]"
      ]
    },
    {
      "cell_type": "markdown",
      "id": "8066e6c4",
      "metadata": {
        "id": "8066e6c4"
      },
      "source": [
        "### 코사인 유사도로 계산하여, 유사한 리뷰는 어떤 것인지 확인해 보기!"
      ]
    },
    {
      "cell_type": "markdown",
      "source": [
        "코사인 유사도(cosine similarity)는 벡터 공간에서 두 벡터 간의 유사성을 측정하는 방법 중 하나. 이는 두 벡터 사이의 각도를 측정하여 유사성을 결정. 코사인 유사도는 -1에서 1까지의 값을 가지며, 값이 1에 가까울수록 두 벡터는 유사하다고 판단"
      ],
      "metadata": {
        "id": "bV0K7x_Z6tXd"
      },
      "id": "bV0K7x_Z6tXd"
    },
    {
      "cell_type": "markdown",
      "source": [
        "자연어 처리에서 코사인 유사도는 문서 간의 유사성을 측정하는 데 널리 사용. 예를 들어, 문서를 TF-IDF 벡터로 표현한 후, 각 문서 간의 코사인 유사도를 계산하여 문서 간의 유사성을 비교할 수. 이를 통해 검색 엔진이 검색어와 가장 관련성 높은 문서를 찾거나, 문서 간의 토픽 모델링을 수행하는 등의 작업에 활용"
      ],
      "metadata": {
        "id": "5WdY2LeN6wmQ"
      },
      "id": "5WdY2LeN6wmQ"
    },
    {
      "cell_type": "code",
      "execution_count": null,
      "id": "0f128fbf",
      "metadata": {
        "id": "0f128fbf"
      },
      "outputs": [],
      "source": [
        "from sklearn.metrics.pairwise import cosine_similarity\n",
        "\n",
        "st = len(df_sp_docu[120])//2\n",
        "\n",
        "source = df_sp_docu[120][-st:] # 뒷부분을 선택하기 위해 음수 인덱스"
      ]
    },
    {
      "cell_type": "code",
      "execution_count": null,
      "id": "b11b4271",
      "metadata": {
        "id": "b11b4271",
        "outputId": "6b116d16-7fc5-4703-dce3-9b3f5d79a1bc"
      },
      "outputs": [
        {
          "data": {
            "text/plain": [
              "'중국인 특유의 과장, 허풍... 있어보이려고 안간힘 쓴 노력은 가상하나, 고증과 현실감 떨어지는 설정이 거북스럽다... 도대체 그들은 왜 이렇게까지 스스로를 과대포장하는 것인지...'"
            ]
          },
          "execution_count": 77,
          "metadata": {},
          "output_type": "execute_result"
        }
      ],
      "source": [
        "df_sp_docu[120]"
      ]
    },
    {
      "cell_type": "code",
      "execution_count": null,
      "id": "0429ce81",
      "metadata": {
        "id": "0429ce81"
      },
      "outputs": [],
      "source": [
        "# 선택한 문장을 CountVectorizer를 사용하여 벡터로 변환. 이를 통해 선택한 문장을 다른 문장들과 비교할 수 있도록 준비\n",
        "source_rv =re_cv_mt.transform([source])"
      ]
    },
    {
      "cell_type": "code",
      "execution_count": null,
      "id": "8c1cc82c",
      "metadata": {
        "id": "8c1cc82c",
        "outputId": "c1f3a9c7-cc58-4c43-ed68-95037cf6a7ca"
      },
      "outputs": [
        {
          "data": {
            "text/plain": [
              "<1x1000 sparse matrix of type '<class 'numpy.int64'>'\n",
              "\twith 5 stored elements in Compressed Sparse Row format>"
            ]
          },
          "execution_count": 83,
          "metadata": {},
          "output_type": "execute_result"
        }
      ],
      "source": [
        "source_rv"
      ]
    },
    {
      "cell_type": "code",
      "execution_count": null,
      "id": "7d24029a",
      "metadata": {
        "id": "7d24029a"
      },
      "outputs": [],
      "source": [
        "#기준점의 리뷰와 코사인유사도를 계산하자! 선택한 문장과 다른 문장들 간의 코사인 유사도를 계산!\n",
        "sim_res=cosine_similarity(source_rv,re_cnv_mt)"
      ]
    },
    {
      "cell_type": "code",
      "execution_count": null,
      "id": "6880d93c",
      "metadata": {
        "id": "6880d93c",
        "outputId": "a0e293d3-fc66-41bc-c904-fadb2d0907f9"
      },
      "outputs": [
        {
          "data": {
            "text/plain": [
              "49999"
            ]
          },
          "execution_count": 87,
          "metadata": {},
          "output_type": "execute_result"
        }
      ],
      "source": [
        "len(sim_res[0])"
      ]
    },
    {
      "cell_type": "code",
      "execution_count": null,
      "id": "0fb4ec52",
      "metadata": {
        "id": "0fb4ec52",
        "outputId": "5be56a57-6d25-419f-bcb2-1938fa0ae68c"
      },
      "outputs": [
        {
          "name": "stdout",
          "output_type": "stream",
          "text": [
            "120\n"
          ]
        }
      ],
      "source": [
        "# 과연 위의 리뷰랑 어떤 리뷰가 가장 유사도가 높을까? 가장 유사한 문장의 인덱스를 출력\n",
        "print(np.argmax(sim_res[0]))"
      ]
    },
    {
      "cell_type": "code",
      "execution_count": null,
      "id": "cce883e9",
      "metadata": {
        "id": "cce883e9",
        "outputId": "7f35f2cf-0338-4c27-fc2a-c7be4b00dbe4"
      },
      "outputs": [
        {
          "data": {
            "text/plain": [
              "array([  120,  9342, 37568, 10881, 36198, 44547, 32319, 10105, 18198,\n",
              "       19627])"
            ]
          },
          "execution_count": 89,
          "metadata": {},
          "output_type": "execute_result"
        }
      ],
      "source": [
        "# 코사인 유사도를 내림차순으로 정렬한 후, 상위 10개의 인덱스를 출력\n",
        "(-sim_res[0]).argsort()[:10]"
      ]
    },
    {
      "cell_type": "code",
      "execution_count": null,
      "id": "79bcf9a9",
      "metadata": {
        "id": "79bcf9a9",
        "outputId": "40647c33-22d4-4b68-ca0e-f5721e563f39"
      },
      "outputs": [
        {
          "data": {
            "text/plain": [
              "'도대체 왜 만들었을까? 평점도 왜이리 높은거야?'"
            ]
          },
          "execution_count": 95,
          "metadata": {},
          "output_type": "execute_result"
        }
      ],
      "source": [
        "df_sp_docu[10105]"
      ]
    },
    {
      "cell_type": "code",
      "execution_count": null,
      "id": "d166e59c",
      "metadata": {
        "id": "d166e59c",
        "outputId": "6f5b69f3-bc10-47e5-9a0b-54a3afa47bc2"
      },
      "outputs": [
        {
          "data": {
            "text/html": [
              "<div>\n",
              "<style scoped>\n",
              "    .dataframe tbody tr th:only-of-type {\n",
              "        vertical-align: middle;\n",
              "    }\n",
              "\n",
              "    .dataframe tbody tr th {\n",
              "        vertical-align: top;\n",
              "    }\n",
              "\n",
              "    .dataframe thead th {\n",
              "        text-align: right;\n",
              "    }\n",
              "</style>\n",
              "<table border=\"1\" class=\"dataframe\">\n",
              "  <thead>\n",
              "    <tr style=\"text-align: right;\">\n",
              "      <th></th>\n",
              "      <th>Unnamed: 0</th>\n",
              "      <th>id</th>\n",
              "      <th>document</th>\n",
              "      <th>label</th>\n",
              "    </tr>\n",
              "  </thead>\n",
              "  <tbody>\n",
              "    <tr>\n",
              "      <th>0</th>\n",
              "      <td>0</td>\n",
              "      <td>9976970</td>\n",
              "      <td>아 더빙.. 진짜 짜증나네요 목소리</td>\n",
              "      <td>0</td>\n",
              "    </tr>\n",
              "    <tr>\n",
              "      <th>1</th>\n",
              "      <td>1</td>\n",
              "      <td>3819312</td>\n",
              "      <td>흠...포스터보고 초딩영화줄....오버연기조차 가볍지 않구나</td>\n",
              "      <td>1</td>\n",
              "    </tr>\n",
              "    <tr>\n",
              "      <th>2</th>\n",
              "      <td>2</td>\n",
              "      <td>10265843</td>\n",
              "      <td>너무재밓었다그래서보는것을추천한다</td>\n",
              "      <td>0</td>\n",
              "    </tr>\n",
              "    <tr>\n",
              "      <th>3</th>\n",
              "      <td>3</td>\n",
              "      <td>9045019</td>\n",
              "      <td>교도소 이야기구먼 ..솔직히 재미는 없다..평점 조정</td>\n",
              "      <td>0</td>\n",
              "    </tr>\n",
              "    <tr>\n",
              "      <th>4</th>\n",
              "      <td>4</td>\n",
              "      <td>6483659</td>\n",
              "      <td>사이몬페그의 익살스런 연기가 돋보였던 영화!스파이더맨에서 늙어보이기만 했던 커스틴 ...</td>\n",
              "      <td>1</td>\n",
              "    </tr>\n",
              "    <tr>\n",
              "      <th>...</th>\n",
              "      <td>...</td>\n",
              "      <td>...</td>\n",
              "      <td>...</td>\n",
              "      <td>...</td>\n",
              "    </tr>\n",
              "    <tr>\n",
              "      <th>149995</th>\n",
              "      <td>149995</td>\n",
              "      <td>6222902</td>\n",
              "      <td>인간이 문제지.. 소는 뭔죄인가..</td>\n",
              "      <td>0</td>\n",
              "    </tr>\n",
              "    <tr>\n",
              "      <th>149996</th>\n",
              "      <td>149996</td>\n",
              "      <td>8549745</td>\n",
              "      <td>평점이 너무 낮아서...</td>\n",
              "      <td>1</td>\n",
              "    </tr>\n",
              "    <tr>\n",
              "      <th>149997</th>\n",
              "      <td>149997</td>\n",
              "      <td>9311800</td>\n",
              "      <td>이게 뭐요? 한국인은 거들먹거리고 필리핀 혼혈은 착하다?</td>\n",
              "      <td>0</td>\n",
              "    </tr>\n",
              "    <tr>\n",
              "      <th>149998</th>\n",
              "      <td>149998</td>\n",
              "      <td>2376369</td>\n",
              "      <td>청춘 영화의 최고봉.방황과 우울했던 날들의 자화상</td>\n",
              "      <td>1</td>\n",
              "    </tr>\n",
              "    <tr>\n",
              "      <th>149999</th>\n",
              "      <td>149999</td>\n",
              "      <td>9619869</td>\n",
              "      <td>한국 영화 최초로 수간하는 내용이 담긴 영화</td>\n",
              "      <td>0</td>\n",
              "    </tr>\n",
              "  </tbody>\n",
              "</table>\n",
              "<p>150000 rows × 4 columns</p>\n",
              "</div>"
            ],
            "text/plain": [
              "        Unnamed: 0        id  \\\n",
              "0                0   9976970   \n",
              "1                1   3819312   \n",
              "2                2  10265843   \n",
              "3                3   9045019   \n",
              "4                4   6483659   \n",
              "...            ...       ...   \n",
              "149995      149995   6222902   \n",
              "149996      149996   8549745   \n",
              "149997      149997   9311800   \n",
              "149998      149998   2376369   \n",
              "149999      149999   9619869   \n",
              "\n",
              "                                                 document  label  \n",
              "0                                     아 더빙.. 진짜 짜증나네요 목소리      0  \n",
              "1                       흠...포스터보고 초딩영화줄....오버연기조차 가볍지 않구나      1  \n",
              "2                                       너무재밓었다그래서보는것을추천한다      0  \n",
              "3                           교도소 이야기구먼 ..솔직히 재미는 없다..평점 조정      0  \n",
              "4       사이몬페그의 익살스런 연기가 돋보였던 영화!스파이더맨에서 늙어보이기만 했던 커스틴 ...      1  \n",
              "...                                                   ...    ...  \n",
              "149995                                인간이 문제지.. 소는 뭔죄인가..      0  \n",
              "149996                                      평점이 너무 낮아서...      1  \n",
              "149997                    이게 뭐요? 한국인은 거들먹거리고 필리핀 혼혈은 착하다?      0  \n",
              "149998                        청춘 영화의 최고봉.방황과 우울했던 날들의 자화상      1  \n",
              "149999                           한국 영화 최초로 수간하는 내용이 담긴 영화      0  \n",
              "\n",
              "[150000 rows x 4 columns]"
            ]
          },
          "execution_count": 96,
          "metadata": {},
          "output_type": "execute_result"
        }
      ],
      "source": [
        "df"
      ]
    },
    {
      "cell_type": "code",
      "execution_count": null,
      "id": "3ac99903",
      "metadata": {
        "id": "3ac99903"
      },
      "outputs": [],
      "source": []
    },
    {
      "cell_type": "code",
      "execution_count": null,
      "id": "f47b793c",
      "metadata": {
        "id": "f47b793c"
      },
      "outputs": [],
      "source": []
    },
    {
      "cell_type": "code",
      "execution_count": null,
      "id": "07814ffc",
      "metadata": {
        "id": "07814ffc"
      },
      "outputs": [],
      "source": []
    },
    {
      "cell_type": "code",
      "execution_count": null,
      "id": "aaf397c7",
      "metadata": {
        "id": "aaf397c7"
      },
      "outputs": [],
      "source": []
    }
  ],
  "metadata": {
    "kernelspec": {
      "display_name": "Python 3 (ipykernel)",
      "language": "python",
      "name": "python3"
    },
    "language_info": {
      "codemirror_mode": {
        "name": "ipython",
        "version": 3
      },
      "file_extension": ".py",
      "mimetype": "text/x-python",
      "name": "python",
      "nbconvert_exporter": "python",
      "pygments_lexer": "ipython3",
      "version": "3.8.16"
    },
    "colab": {
      "provenance": []
    }
  },
  "nbformat": 4,
  "nbformat_minor": 5
}